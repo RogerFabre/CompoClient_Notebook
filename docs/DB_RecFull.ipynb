{
 "cells": [
  {
   "cell_type": "code",
   "execution_count": 0,
   "metadata": {
    "application/vnd.databricks.v1+cell": {
     "cellMetadata": {},
     "inputWidgets": {},
     "nuid": "1a74d692-a0eb-455e-8870-57cb2c1b1b6d",
     "showTitle": false,
     "title": ""
    }
   },
   "outputs": [],
   "source": [
    "# %python\n",
    "# # PRE\n",
    "# dbutils.fs.mount(\n",
    "#   source = \"wasbs://recomanadorfulleto@stabdpredatalake.blob.core.windows.net\",\n",
    "#   mount_point = \"/mnt/recfull\",\n",
    "#   extra_configs = {\"fs.azure.account.key.stabdpredatalake.blob.core.windows.net\":dbutils.secrets.get(\n",
    "#     scope = \"databricks-pre\",\n",
    "#     key = \"aiduser\")\n",
    "#   }\n",
    "# )"
   ]
  },
  {
   "cell_type": "code",
   "execution_count": 0,
   "metadata": {
    "application/vnd.databricks.v1+cell": {
     "cellMetadata": {},
     "inputWidgets": {},
     "nuid": "ea10c739-cf69-4d5a-9152-b74e4dc0f9b4",
     "showTitle": false,
     "title": ""
    }
   },
   "outputs": [],
   "source": [
    "%python\n",
    "# PRO\n",
    "dbutils.fs.mount(\n",
    "  source = \"wasbs://recomanadorfulleto@stabdproddatalake.blob.core.windows.net\",\n",
    "  mount_point = \"/mnt/recfull\",\n",
    "  extra_configs = {\"fs.azure.account.key.stabdproddatalake.blob.core.windows.net\":dbutils.secrets.get(\n",
    "    scope = \"databricks-pro\",\n",
    "    key = \"aiduser\")\n",
    "  }\n",
    ")"
   ]
  },
  {
   "cell_type": "code",
   "execution_count": 0,
   "metadata": {
    "application/vnd.databricks.v1+cell": {
     "cellMetadata": {
      "implicitDf": true
     },
     "inputWidgets": {},
     "nuid": "f50c3f9d-c067-4504-8193-d7455615aad1",
     "showTitle": false,
     "title": ""
    }
   },
   "outputs": [],
   "source": [
    "%sql\n",
    "CREATE DATABASE RECFULL LOCATION \"/mnt/recfull\""
   ]
  },
  {
   "cell_type": "code",
   "execution_count": 0,
   "metadata": {
    "application/vnd.databricks.v1+cell": {
     "cellMetadata": {},
     "inputWidgets": {},
     "nuid": "1968fdb0-e1ed-4189-9854-df4cf4a30576",
     "showTitle": false,
     "title": ""
    }
   },
   "outputs": [],
   "source": []
  }
 ],
 "metadata": {
  "application/vnd.databricks.v1+notebook": {
   "dashboards": [],
   "language": "python",
   "notebookMetadata": {
    "mostRecentlyExecutedCommandWithImplicitDF": {
     "commandId": 60835310587579,
     "dataframes": [
      "_sqldf"
     ]
    },
    "pythonIndentUnit": 2
   },
   "notebookName": "DB_RecFull",
   "widgets": {}
  }
 },
 "nbformat": 4,
 "nbformat_minor": 0
}
